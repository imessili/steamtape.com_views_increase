{
 "cells": [
  {
   "cell_type": "code",
   "execution_count": 5,
   "id": "5aa19d19-5f79-4053-931e-24fb6a1312f2",
   "metadata": {},
   "outputs": [
    {
     "name": "stdout",
     "output_type": "stream",
     "text": [
      "Requirement already satisfied: requests in c:\\users\\abdou\\appdata\\local\\programs\\python\\python38\\lib\\site-packages (2.31.0)\n",
      "Requirement already satisfied: charset-normalizer<4,>=2 in c:\\users\\abdou\\appdata\\local\\programs\\python\\python38\\lib\\site-packages (from requests) (2.0.12)\n",
      "Requirement already satisfied: idna<4,>=2.5 in c:\\users\\abdou\\appdata\\local\\programs\\python\\python38\\lib\\site-packages (from requests) (3.3)\n",
      "Requirement already satisfied: urllib3<3,>=1.21.1 in c:\\users\\abdou\\appdata\\local\\programs\\python\\python38\\lib\\site-packages (from requests) (1.26.9)\n",
      "Requirement already satisfied: certifi>=2017.4.17 in c:\\users\\abdou\\appdata\\local\\programs\\python\\python38\\lib\\site-packages (from requests) (2021.10.8)\n",
      "Requirement already satisfied: beautifulsoup4 in c:\\users\\abdou\\appdata\\local\\programs\\python\\python38\\lib\\site-packages (4.11.1)\n",
      "Requirement already satisfied: soupsieve>1.2 in c:\\users\\abdou\\appdata\\local\\programs\\python\\python38\\lib\\site-packages (from beautifulsoup4) (2.3.2.post1)\n",
      "Requirement already satisfied: pandas in c:\\users\\abdou\\appdata\\local\\programs\\python\\python38\\lib\\site-packages (2.0.3)\n",
      "Requirement already satisfied: python-dateutil>=2.8.2 in c:\\users\\abdou\\appdata\\local\\programs\\python\\python38\\lib\\site-packages (from pandas) (2.8.2)\n",
      "Requirement already satisfied: pytz>=2020.1 in c:\\users\\abdou\\appdata\\local\\programs\\python\\python38\\lib\\site-packages (from pandas) (2023.3.post1)\n",
      "Requirement already satisfied: tzdata>=2022.1 in c:\\users\\abdou\\appdata\\local\\programs\\python\\python38\\lib\\site-packages (from pandas) (2023.4)\n",
      "Requirement already satisfied: numpy>=1.20.3 in c:\\users\\abdou\\appdata\\local\\programs\\python\\python38\\lib\\site-packages (from pandas) (1.24.4)\n",
      "Requirement already satisfied: six>=1.5 in c:\\users\\abdou\\appdata\\local\\programs\\python\\python38\\lib\\site-packages (from python-dateutil>=2.8.2->pandas) (1.16.0)\n",
      "Requirement already satisfied: lxml in c:\\users\\abdou\\appdata\\local\\programs\\python\\python38\\lib\\site-packages (5.0.0)\n",
      "Collecting selenium==3.5.0\n",
      "  Using cached selenium-3.5.0-py2.py3-none-any.whl (921 kB)\n",
      "Installing collected packages: selenium\n",
      "  Attempting uninstall: selenium\n",
      "    Found existing installation: selenium 4.8.0\n",
      "    Uninstalling selenium-4.8.0:\n",
      "      Successfully uninstalled selenium-4.8.0\n",
      "Successfully installed selenium-3.5.0\n"
     ]
    },
    {
     "name": "stderr",
     "output_type": "stream",
     "text": [
      "ERROR: pip's dependency resolver does not currently take into account all the packages that are installed. This behaviour is the source of the following dependency conflicts.\n",
      "undetected-chromedriver 3.2.1 requires selenium>=4.0.0, but you have selenium 3.5.0 which is incompatible.\n"
     ]
    }
   ],
   "source": [
    "!pip install requests\n",
    "!pip install beautifulsoup4\n",
    "!pip install pandas\n",
    "!pip3 install lxml\n",
    "!pip install selenium==3.5.0"
   ]
  },
  {
   "cell_type": "code",
   "execution_count": 15,
   "id": "c52d76fc-5b83-4c3a-8542-fdccc30dec62",
   "metadata": {},
   "outputs": [
    {
     "name": "stdout",
     "output_type": "stream",
     "text": [
      "Requirement already satisfied: fake_useragent in c:\\users\\abdou\\appdata\\local\\programs\\python\\python38\\lib\\site-packages (1.4.0)\n",
      "Requirement already satisfied: importlib-resources>=5.0 in c:\\users\\abdou\\appdata\\local\\programs\\python\\python38\\lib\\site-packages (from fake_useragent) (6.1.1)\n",
      "Requirement already satisfied: zipp>=3.1.0 in c:\\users\\abdou\\appdata\\local\\programs\\python\\python38\\lib\\site-packages (from importlib-resources>=5.0->fake_useragent) (3.17.0)\n",
      "Requirement already satisfied: undetected-chromedriver in c:\\users\\abdou\\appdata\\local\\programs\\python\\python38\\lib\\site-packages (3.2.1)\n",
      "Requirement already satisfied: selenium in c:\\users\\abdou\\appdata\\local\\programs\\python\\python38\\lib\\site-packages (4.8.0)\n",
      "Requirement already satisfied: requests in c:\\users\\abdou\\appdata\\local\\programs\\python\\python38\\lib\\site-packages (from undetected-chromedriver) (2.31.0)\n",
      "Requirement already satisfied: websockets in c:\\users\\abdou\\appdata\\local\\programs\\python\\python38\\lib\\site-packages (from undetected-chromedriver) (10.3)\n",
      "Requirement already satisfied: urllib3~=1.26 in c:\\users\\abdou\\appdata\\local\\programs\\python\\python38\\lib\\site-packages (from urllib3[socks]~=1.26->selenium) (1.26.9)\n",
      "Requirement already satisfied: trio~=0.17 in c:\\users\\abdou\\appdata\\local\\programs\\python\\python38\\lib\\site-packages (from selenium) (0.20.0)\n",
      "Requirement already satisfied: trio-websocket~=0.9 in c:\\users\\abdou\\appdata\\local\\programs\\python\\python38\\lib\\site-packages (from selenium) (0.9.2)\n",
      "Requirement already satisfied: certifi>=2021.10.8 in c:\\users\\abdou\\appdata\\local\\programs\\python\\python38\\lib\\site-packages (from selenium) (2021.10.8)\n",
      "Requirement already satisfied: attrs>=19.2.0 in c:\\users\\abdou\\appdata\\local\\programs\\python\\python38\\lib\\site-packages (from trio~=0.17->selenium) (23.2.0)\n",
      "Requirement already satisfied: sortedcontainers in c:\\users\\abdou\\appdata\\local\\programs\\python\\python38\\lib\\site-packages (from trio~=0.17->selenium) (2.4.0)\n",
      "Requirement already satisfied: async-generator>=1.9 in c:\\users\\abdou\\appdata\\local\\programs\\python\\python38\\lib\\site-packages (from trio~=0.17->selenium) (1.10)\n",
      "Requirement already satisfied: idna in c:\\users\\abdou\\appdata\\local\\programs\\python\\python38\\lib\\site-packages (from trio~=0.17->selenium) (3.3)\n",
      "Requirement already satisfied: outcome in c:\\users\\abdou\\appdata\\local\\programs\\python\\python38\\lib\\site-packages (from trio~=0.17->selenium) (1.1.0)\n",
      "Requirement already satisfied: sniffio in c:\\users\\abdou\\appdata\\local\\programs\\python\\python38\\lib\\site-packages (from trio~=0.17->selenium) (1.2.0)\n",
      "Requirement already satisfied: cffi>=1.14 in c:\\users\\abdou\\appdata\\local\\programs\\python\\python38\\lib\\site-packages (from trio~=0.17->selenium) (1.15.0)\n",
      "Requirement already satisfied: wsproto>=0.14 in c:\\users\\abdou\\appdata\\local\\programs\\python\\python38\\lib\\site-packages (from trio-websocket~=0.9->selenium) (1.1.0)\n",
      "Requirement already satisfied: PySocks!=1.5.7,<2.0,>=1.5.6 in c:\\users\\abdou\\appdata\\local\\programs\\python\\python38\\lib\\site-packages (from urllib3[socks]~=1.26->selenium) (1.7.1)\n",
      "Requirement already satisfied: charset-normalizer<4,>=2 in c:\\users\\abdou\\appdata\\local\\programs\\python\\python38\\lib\\site-packages (from requests->undetected-chromedriver) (2.0.12)\n",
      "Requirement already satisfied: pycparser in c:\\users\\abdou\\appdata\\local\\programs\\python\\python38\\lib\\site-packages (from cffi>=1.14->trio~=0.17->selenium) (2.21)\n",
      "Requirement already satisfied: h11<1,>=0.9.0 in c:\\users\\abdou\\appdata\\local\\programs\\python\\python38\\lib\\site-packages (from wsproto>=0.14->trio-websocket~=0.9->selenium) (0.13.0)\n"
     ]
    }
   ],
   "source": [
    "!pip install fake_useragent\n",
    "!pip install undetected-chromedriver selenium"
   ]
  },
  {
   "cell_type": "code",
   "execution_count": 19,
   "id": "4b2826a2-5019-4337-b8e8-361810ef5c17",
   "metadata": {},
   "outputs": [],
   "source": [
    "## to execute webChromeDriver\n",
    "## allows developers to automate interactions with Chrome\n",
    "## opening web pages, filling forms, clicking buttons, and extracting information\n",
    "import os\n",
    "## Js framework for automating web browsers\n",
    "from selenium import webdriver\n",
    "from selenium.webdriver.common.keys import Keys\n",
    "from selenium.webdriver.common.by import By\n",
    "from selenium.webdriver.support.ui import WebDriverWait\n",
    "from selenium.webdriver.support import expected_conditions as EC\n",
    "from selenium.webdriver.common.action_chains import ActionChains\n",
    "from fake_useragent import UserAgent\n",
    "import random\n",
    "import itertools\n",
    "import time"
   ]
  },
  {
   "cell_type": "code",
   "execution_count": null,
   "id": "b638d6d3-c026-4706-acbd-d489e5488940",
   "metadata": {},
   "outputs": [
    {
     "name": "stderr",
     "output_type": "stream",
     "text": [
      "C:\\Users\\Abdou\\AppData\\Local\\Temp\\ipykernel_17384\\2308339702.py:29: DeprecationWarning: executable_path has been deprecated, please pass in a Service object\n",
      "  driver = webdriver.Chrome(executable_path=\"./chromedriver.exe\", options=chrome_options)\n"
     ]
    }
   ],
   "source": [
    "urls = [\"https://streamtape.com/v/GQ7j3RlAzjs1kj0/Project_1.mp4\"]\n",
    "\n",
    "\n",
    "\n",
    "\n",
    "\n",
    "# Function to close the current tab\n",
    "def close_current_tab():\n",
    "    driver.find_element(By.TAG_NAME, 'body').send_keys(Keys.CONTROL + 'w')\n",
    "\n",
    "\n",
    "for url in itertools.cycle(urls):\n",
    "    \n",
    "    user_agent = UserAgent()\n",
    "    # Set a random user agent for each iteration\n",
    "    user_agent_value = user_agent.random\n",
    "\n",
    "    # Configure Chrome options with the random user agent\n",
    "    chrome_options = webdriver.ChromeOptions()\n",
    "    chrome_options.add_argument(f\"user-agent={user_agent_value}\")\n",
    "    ##chrome_options.add_argument(f'--proxy-server={proxy}')\n",
    "    ##chrome_options.add_argument(\"--window-size=200,200\")\n",
    "    #chrome_options.add_argument(\"--headless\")\n",
    "    ##chrome_options.add_argument(\"--disable-gpu\")\n",
    "    ##chrome_options.add_argument(\"--disable-extensions\")\n",
    "    \n",
    "\n",
    "    # Create a new instance of the Chrome driver with the configured options\n",
    "    driver = webdriver.Chrome(executable_path=\"./chromedriver.exe\", options=chrome_options)\n",
    "    \n",
    "    ## scrolling to the bottum of the page\n",
    "    driver.get(url)\n",
    "\n",
    "    # Handle pop-up windows and click on the window/tab four times\n",
    "    for _ in range(3):\n",
    "        \n",
    "        # Click on the page to potentially open a new window/tab\n",
    "        driver.find_element(By.TAG_NAME, 'body').click()\n",
    "    \n",
    "        # Wait for a new window/tab to open (you may need to adjust the time)\n",
    "        wait = WebDriverWait(driver, 10)\n",
    "        wait.until(EC.number_of_windows_to_be(2))\n",
    "    \n",
    "        # Get the handles of all open windows\n",
    "        window_handles = driver.window_handles\n",
    "    \n",
    "        # Switch to the new window/tab\n",
    "        new_window_handle = set(window_handles) - {driver.current_window_handle}\n",
    "        driver.switch_to.window(new_window_handle.pop())\n",
    "    \n",
    "        # Close the new window/tab using JavaScript\n",
    "        driver.execute_script(\"window.close();\")\n",
    "    \n",
    "        # Switch back to the main tab\n",
    "        driver.switch_to.window(driver.window_handles[0])\n",
    "    \n",
    "    # Wait for the play button to be clickable\n",
    "    wait = WebDriverWait(driver, 10)\n",
    "    \n",
    "    time.sleep(20)\n",
    "\n"
   ]
  },
  {
   "cell_type": "code",
   "execution_count": 5,
   "id": "db01180c-01ec-4047-a0bb-c1663f180058",
   "metadata": {},
   "outputs": [],
   "source": [
    "driver.quit()"
   ]
  }
 ],
 "metadata": {
  "kernelspec": {
   "display_name": "Python 3 (ipykernel)",
   "language": "python",
   "name": "python3"
  },
  "language_info": {
   "codemirror_mode": {
    "name": "ipython",
    "version": 3
   },
   "file_extension": ".py",
   "mimetype": "text/x-python",
   "name": "python",
   "nbconvert_exporter": "python",
   "pygments_lexer": "ipython3",
   "version": "3.8.0"
  }
 },
 "nbformat": 4,
 "nbformat_minor": 5
}
